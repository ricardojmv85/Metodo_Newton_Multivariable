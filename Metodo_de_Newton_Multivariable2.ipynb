{
  "nbformat": 4,
  "nbformat_minor": 0,
  "metadata": {
    "colab": {
      "name": "Metodo de Newton Multivariable2.ipynb",
      "version": "0.3.2",
      "provenance": [],
      "collapsed_sections": [],
      "include_colab_link": true
    },
    "kernelspec": {
      "name": "python3",
      "display_name": "Python 3"
    }
  },
  "cells": [
    {
      "cell_type": "markdown",
      "metadata": {
        "id": "view-in-github",
        "colab_type": "text"
      },
      "source": [
        "<a href=\"https://colab.research.google.com/github/ricardojmv85/Metodo_Newton_Multivariable/blob/master/Metodo_de_Newton_Multivariable2.ipynb\" target=\"_parent\"><img src=\"https://colab.research.google.com/assets/colab-badge.svg\" alt=\"Open In Colab\"/></a>"
      ]
    },
    {
      "cell_type": "markdown",
      "metadata": {
        "id": "o9dPDbXxGMMW",
        "colab_type": "text"
      },
      "source": [
        "## **Demostración**\n",
        "\n",
        "Partiendo del hecho que el Método de Newton de una dimensión se puede generalizar para n dimensiones. \n",
        "Podemos empezar por demostrar Newton de una dimensión por medio de las series de Taylor.\n",
        "Cuando se quiere encontrar la raíz de una función utilizando Newton pues se calcula la función de la recta tangente a la función centrada en un punto en especifico, en el inicio sera en nuestro primer guess osea $x_{1}$, esto para encontrar en el siguiente punto $x_{2}$ el cual al evaluarse en la función de la recta tangente daria como resultado 0 y asi sucesivamente hasta que el punto $x_{n}$ evaluado en $f(x)$ se aproxime a la raíz con un cierto nivel de tolerancia.\n",
        "\n",
        "Ahora para encontrar la función de la recta tangente de la función $f(x)$ se puede utilizar una serie de Taylor truncada en $n=1$ y centrada en el punto $x_{1}$  ya que esta tratara de aproximar el valor de la función en $x_{2}$ el cual sabemos que es 0.\n",
        "La ecuación quedaria de la siguiente forma:\n",
        "\n",
        "\n",
        "$f(x_{2})=f(x_{1})+f'(x) (x_{2}-x_{1})$\n",
        "\n",
        "Como sabemos que $f(x_{2})=0$ entonces la ecuación quedaria:\n",
        "\n",
        "$0=f(x_{1})+f'(x) (x_{2}-x_{1})$\n",
        "\n",
        "como queremos encontrar la siguiente $x$ osea $x_{2}$ de nuestra ecuación, al despejarla quedaria la formula ya conocida para encontrar la siguiente coordenada que aproxima la función $f(x)$ a su raiz.\n",
        "\n",
        "$x_{2}=x_{1}-\\frac{f(x_{1})}{f'(x_{1})}$\n",
        "\n",
        "Partiendo de esto podemos avanzar a ver como esto se puede generalizar a resolver un $n$ ecuaciones de $n$ dimensiones.\n",
        "\n",
        "En esta demostración derivaremos hacia un sistema de 2 ecuaciones de 2 dimensiones:\n",
        "Es de recordar que en un sistema de ecuaciones, las raices se encuentran en los puntos donde estas se interceptan.\n",
        "\n",
        "$f_{1}(x,y)=0$ \n",
        "\n",
        "$f_{2}(x,y)=0$\n",
        "\n",
        "al igual que el problema de una dimensión, sacaremos los polinomios de Taylor truncado en $n=1$ para las dos funciones centradas en $(x_{1},y_{1})$ \n",
        "\n",
        "$f_{1}(x_{2},y_{2})=f_{1}(x_{1},y_{1})+\\frac{\\partial_{f_{1}}} {\\partial{x}}(x_{2}-x_{1})+\\frac{\\partial_{f_{1}}} {\\partial{y}}(y_{2}-y_{1})$ \n",
        "\n",
        "$f_{2}(x_{2},y_{2})=f_{2}(x_{1},y_{1})+\\frac{\\partial_{f_{2}}} {\\partial{x}}(x_{2}-x_{1})+\\frac{\\partial_{f_{2}}} {\\partial{y}}(y_{2}-y_{1})$ \n",
        "\n",
        "Como sabemos que $f_{1}(x_{2},y_{2})=0$ y $f_{2}(x_{2},y_{2})=0$ entonces el sistema de ecuaciones quedaria:\n",
        "\n",
        "$0=f_{1}(x_{1},y_{1})+\\frac{\\partial_{f_{1}}} {\\partial{x}}(x_{2}-x_{1})+\\frac{\\partial_{f_{1}}} {\\partial{y}}(y_{2}-y_{1})$ \n",
        "\n",
        "$0=f_{2}(x_{1},y_{1})+\\frac{\\partial_{f_{2}}} {\\partial{x}}(x_{2}-x_{1})+\\frac{\\partial_{f_{2}}} {\\partial{y}}(y_{2}-y_{1})$ \n",
        "\n",
        "luego movemos el primer termino de las series al otro lado \n",
        "\n",
        "$\\frac{\\partial_{f_{1}}} {\\partial{x}}(x_{2}-x_{1})+\\frac{\\partial_{f_{1}}} {\\partial{y}}(y_{2}-y_{1})=-f_{1}(x_{1},y_{1})$ \n",
        "\n",
        "$\\frac{\\partial_{f_{2}}} {\\partial{x}}(x_{2}-x_{1})+\\frac{\\partial_{f_{2}}} {\\partial{y}}(y_{2}-y_{1})=-f_{2}(x_{1},y_{1})$ \n",
        "\n",
        "con un poco de conocimiento de algebra lineal podemos reescribir este sistema de ecuaciones a una forma matricial, lo cual nos quedaria:\n",
        "\n",
        "\n",
        "\n",
        "$A=$\\begin{bmatrix}\n",
        " \\frac{\\partial_{f_{1}}} {\\partial{x}}&  \\frac{\\partial_{f_{1}}} {\\partial{y}}\\\\ \n",
        " \\frac{\\partial_{f_{2}}} {\\partial{x}}& \\frac{\\partial_{f_{2}}} {\\partial{y}}\n",
        "\\end{bmatrix}\n",
        "\n",
        "multiplicando a \n",
        "\n",
        "$c=$\\begin{bmatrix}\n",
        " x_{2}-x_{1}\\\\ \n",
        " y_{2}-y_{1}\n",
        "\\end{bmatrix}\n",
        "\n",
        "lo que seria igual a \n",
        "\n",
        "$b=$\\begin{bmatrix}\n",
        " -f_{1}(x_{1},y_{1})\\\\ \n",
        " -f_{2}(x_{1},y_{1})\n",
        "\\end{bmatrix}\n",
        "\n",
        "teniendo escrito en forma matricial podemos ver que el sistema de ecuaciones no lineales se convirtio en un problema lineal ya que tenemos ahora\n",
        "\n",
        "$A * c =b$ en donde necesitamos despejar la matriz $c$ ya que esta contiene las coordenadas nuevas $x_{2}$ y $y_{2}$\n",
        "\n",
        "una manera de despejar la matriz $c$ es por medio de la regla de Cramer, esta sigue la siguiente formula para encontrar cada elemento de la matriz $c$\n",
        "\n",
        "$c_{i}$= $ \\frac{|A_{i}|}{|A|}$\n",
        "\n",
        "entonces para encontrar el primer elemento de la matriz $c$ donde este elemento es $x_{2}-x_{1}$ seria de la siguiente forma\n",
        "\n",
        "$c_{1}  \\rightarrow x_{2}-x_{1} =   \\frac{det \\begin{bmatrix}\n",
        "  -f_{1}(x_{1},y_{1})&  \\frac{\\partial_{f_{1}}} {\\partial{y}}\\\\ \n",
        "  -f_{2}(x_{1},y_{1})&  \\frac{\\partial_{f_{2}}} {\\partial{y}}\n",
        "\\end{bmatrix}}{det \\begin{bmatrix}\n",
        " \\frac{\\partial_{f_{1}}} {\\partial{x}}&  \\frac{\\partial_{f_{1}}} {\\partial{y}}\\\\ \n",
        " \\frac{\\partial_{f_{2}}} {\\partial{x}}& \\frac{\\partial_{f_{2}}} {\\partial{y}}\n",
        "\\end{bmatrix}} = \\frac{-f_1(x_1,y_1) \\frac{\\partial f_2}{\\partial y} +  f_2(x_1,y_1)\\frac{\\partial f_1}{\\partial y}  }{\\frac{\\partial f_1}{\\partial x} \\frac{\\partial f_2}{\\partial y} - \\frac{\\partial f_2}{\\partial x} \\frac{\\partial f_1}{\\partial y} } $\n",
        "\n",
        "ahora para encontrar $x_{2}$ seria $x_{2}= c_{1}+x_{1}$\n",
        "\n",
        "$x_{2}=\\frac{-f_1(x_1,y_1) \\frac{\\partial f_2}{\\partial y} +  f_2(x_1,y_1)\\frac{\\partial f_1}{\\partial y}  }{\\frac{\\partial f_1}{\\partial x} \\frac{\\partial f_2}{\\partial y} - \\frac{\\partial f_2}{\\partial x} \\frac{\\partial f_1}{\\partial y} }+x_{1}$\n",
        "\n",
        "el procedimiento para encontrar $c_{2}$ que seria $y_{2}-y_{1}$ nos quedaria:\n",
        "\n",
        "$c_{2}  \\rightarrow y_{2}-y_{1} =   \\frac{det \\begin{bmatrix}\n",
        " \\frac{\\partial_{f_{1}}} {\\partial{x}}&  -f_{1}(x_{1},y_{1})\\\\ \n",
        " \\frac{\\partial_{f_{2}}} {\\partial{x}}& -f_{2}(x_{1},y_{1})\n",
        "\\end{bmatrix}}{det \\begin{bmatrix}\n",
        " \\frac{\\partial_{f_{1}}} {\\partial{x}}&  \\frac{\\partial_{f_{1}}} {\\partial{y}}\\\\ \n",
        " \\frac{\\partial_{f_{2}}} {\\partial{x}}& \\frac{\\partial_{f_{2}}} {\\partial{y}}\n",
        "\\end{bmatrix}} = \\frac{-f_2(x_1,y_1) \\frac{\\partial f_1}{\\partial x} +  f_1(x_1,y_1)\\frac{\\partial f_2}{\\partial x}  }{\\frac{\\partial f_1}{\\partial x} \\frac{\\partial f_2}{\\partial y} - \\frac{\\partial f_2}{\\partial x} \\frac{\\partial f_1}{\\partial y} } $\n",
        "\n",
        "al igual al despejar $y_{2}$ quedaria:\n",
        "\n",
        "$ y_2 = \\frac{-f_2(x_1,y_1) \\frac{\\partial f_1}{\\partial x} +  f_1(x_1,y_1)\\frac{\\partial f_2}{\\partial x}  }{\\frac{\\partial f_1}{\\partial x} \\frac{\\partial f_2}{\\partial y} - \\frac{\\partial f_2}{\\partial x} \\frac{\\partial f_1}{\\partial y} } + y_1$\n",
        "\n",
        "con esta demostración queda evidenciada la posible derivación del Método de Newton de 1 dimension a n dimensiones.\n"
      ]
    },
    {
      "cell_type": "markdown",
      "metadata": {
        "id": "IbRI_LDdInge",
        "colab_type": "text"
      },
      "source": [
        "$Ejemplo 1$\n",
        "\n",
        "$f1:  x^2-10x+y^2+8 = 0$\n",
        "\n",
        "$f2: xy^2+x-10y+8 = 0$\n"
      ]
    },
    {
      "cell_type": "code",
      "metadata": {
        "id": "mHjRmJfbFZsr",
        "colab_type": "code",
        "colab": {}
      },
      "source": [
        "def func1(x,y):\n",
        "  return(x**2-10*x+y**2+8)\n",
        "\n",
        "\n",
        "def func2(x,y):\n",
        "  return(x*y**2+x-10*y+8)\n",
        "\n",
        "\n",
        "def func1_derivadax(x,y):\n",
        "  return(2*x-10)\n",
        "\n",
        "\n",
        "def func1_derivaday(x,y):\n",
        "  return(2*y)\n",
        "\n",
        "\n",
        "def func2_derivadax(x,y):\n",
        "  return(y**2+1)\n",
        "\n",
        "\n",
        "def func2_derivaday(x,y):\n",
        "  return(2*x*y-10)\n",
        "\n",
        "def newton(x,y):\n",
        "  error1=abs(0-func1(x,y))\n",
        "  error2=abs(0-func2(x,y))\n",
        "  print(\"entro \",x,\" \",y)\n",
        "  if(error1>0.001 or error2>0.001):\n",
        "    x2=x+(-func1(x,y)*func2_derivaday(x,y)+func2(x,y)*func1_derivaday(x,y))/(func1_derivadax(x,y)*func2_derivaday(x,y)-func2_derivadax(x,y)*func1_derivaday(x,y))\n",
        "    y2=y+(-func2(x,y)*func1_derivadax(x,y)+func1(x,y)*func2_derivadax(x,y))/(func1_derivadax(x,y)*func2_derivaday(x,y)-func2_derivadax(x,y)*func1_derivaday(x,y))\n",
        "    return newton(x2,y2)\n",
        "  else:\n",
        "    return \"x: \",x,\" y: \",y"
      ],
      "execution_count": 0,
      "outputs": []
    },
    {
      "cell_type": "code",
      "metadata": {
        "id": "WJVe31g0IClC",
        "colab_type": "code",
        "outputId": "8ff6ef24-7f66-4636-d473-c1b551c52b84",
        "colab": {
          "base_uri": "https://localhost:8080/",
          "height": 159
        }
      },
      "source": [
        "newton(5,7)"
      ],
      "execution_count": 0,
      "outputs": [
        {
          "output_type": "stream",
          "text": [
            "entro  5   7\n",
            "entro  3.982857142857143   4.714285714285714\n",
            "entro  2.780684455143053   3.7910671569018604\n",
            "entro  2.347210138027359   3.234286693564483\n",
            "entro  2.2098209620335396   3.044626065019001\n",
            "entro  2.193678055974041   3.0208250903174045\n",
            "entro  2.1934394685975507   3.020466548242234\n"
          ],
          "name": "stdout"
        },
        {
          "output_type": "execute_result",
          "data": {
            "text/plain": [
              "('x: ', 2.1934394685975507, ' y: ', 3.020466548242234)"
            ]
          },
          "metadata": {
            "tags": []
          },
          "execution_count": 16
        }
      ]
    },
    {
      "cell_type": "code",
      "metadata": {
        "id": "yvNTKiXZnVal",
        "colab_type": "code",
        "outputId": "0e169f11-c297-4086-8eb3-ad2b000410f5",
        "colab": {
          "base_uri": "https://localhost:8080/",
          "height": 106
        }
      },
      "source": [
        "newton(0,0)"
      ],
      "execution_count": 0,
      "outputs": [
        {
          "output_type": "stream",
          "text": [
            "entro  0   0\n",
            "entro  0.8   0.88\n",
            "entro  0.9917872211058631   0.9917117370961642\n",
            "entro  0.9999752290493307   0.9999685244005014\n"
          ],
          "name": "stdout"
        },
        {
          "output_type": "execute_result",
          "data": {
            "text/plain": [
              "('x: ', 0.9999752290493307, ' y: ', 0.9999685244005014)"
            ]
          },
          "metadata": {
            "tags": []
          },
          "execution_count": 14
        }
      ]
    },
    {
      "cell_type": "markdown",
      "metadata": {
        "id": "U6Tgl0S7Cn48",
        "colab_type": "text"
      },
      "source": [
        "Ejemplo 2\n",
        "\n",
        "$f(x,y)=x^2-x+y-0.75$\n",
        "\n",
        "$f(x,y)=x^2-5xy-y$"
      ]
    },
    {
      "cell_type": "code",
      "metadata": {
        "id": "n5zFJ6ErgjtI",
        "colab_type": "code",
        "colab": {}
      },
      "source": [
        "def fun1(x,y):\n",
        "  return(x**2-x+y-0.75)\n",
        "def fun2(x,y):\n",
        "  return(x**2-5*x*y-y)\n",
        "def fun1_derivadax(x,y):\n",
        "  return(2*x-1)\n",
        "def fun1_derivaday(x,y):\n",
        "  return(1)\n",
        "def fun2_derivadax(x,y):\n",
        "  return(2*x-5*y)\n",
        "def fun2_derivaday(x,y):\n",
        "  return(-5*x-1)"
      ],
      "execution_count": 0,
      "outputs": []
    },
    {
      "cell_type": "code",
      "metadata": {
        "id": "cgsJ49ZLgmAO",
        "colab_type": "code",
        "outputId": "4027fb0a-9b24-43e5-d031-8ef805647de0",
        "colab": {
          "base_uri": "https://localhost:8080/",
          "height": 106
        }
      },
      "source": [
        "newton(2,2)"
      ],
      "execution_count": 0,
      "outputs": [
        {
          "output_type": "stream",
          "text": [
            "entro  2   2\n",
            "entro  1.3425925925925926   0.7222222222222223\n",
            "entro  1.3785850481960733   0.22938376994667203\n",
            "entro  1.3721111331355522   0.239464083037234\n"
          ],
          "name": "stdout"
        },
        {
          "output_type": "execute_result",
          "data": {
            "text/plain": [
              "('x: ', 1.3721111331355522, ' y: ', 0.239464083037234)"
            ]
          },
          "metadata": {
            "tags": []
          },
          "execution_count": 10
        }
      ]
    }
  ]
}